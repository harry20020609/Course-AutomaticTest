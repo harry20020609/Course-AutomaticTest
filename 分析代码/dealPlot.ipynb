{
 "cells": [
  {
   "cell_type": "code",
   "execution_count": 140,
   "id": "9124fe68",
   "metadata": {},
   "outputs": [],
   "source": [
    "import numpy as np\n",
    "import csv\n",
    "import matplotlib.pyplot as pyplot"
   ]
  },
  {
   "cell_type": "code",
   "execution_count": 141,
   "id": "ea966ef4",
   "metadata": {
    "scrolled": true
   },
   "outputs": [
    {
     "data": {
      "text/plain": [
       "array([['1669712074', ' 0', ' 0', ' 1', ' 1', ' 1', ' 1.29%', ' 0', ' 0',\n",
       "        ' 1', ' 0.00'],\n",
       "       ['1669712079', ' 0', ' 0', ' 78', ' 78', ' 1', ' 1.94%', ' 0',\n",
       "        ' 0', ' 2', ' 2280.40'],\n",
       "       ['1669712546', ' 0', ' 0', ' 164', ' 164', ' 1', ' 2.30%', ' 0',\n",
       "        ' 0', ' 2', ' 1970.57'],\n",
       "       ['1669712551', ' 0', ' 0', ' 195', ' 195', ' 1', ' 2.33%', ' 0',\n",
       "        ' 0', ' 2', ' 1972.92'],\n",
       "       ['1669712556', ' 0', ' 0', ' 236', ' 236', ' 1', ' 2.49%', ' 0',\n",
       "        ' 0', ' 2', ' 2287.81'],\n",
       "       ['1669713018', ' 0', ' 0', ' 245', ' 245', ' 1', ' 2.62%', ' 0',\n",
       "        ' 0', ' 2', ' 2303.92'],\n",
       "       ['1669713023', ' 0', ' 0', ' 263', ' 263', ' 1', ' 2.64%', ' 0',\n",
       "        ' 0', ' 2', ' 2304.07'],\n",
       "       ['1669713478', ' 0', ' 0', ' 265', ' 265', ' 1', ' 2.64%', ' 0',\n",
       "        ' 0', ' 2', ' 2376.38'],\n",
       "       ['1669713483', ' 0', ' 0', ' 267', ' 267', ' 1', ' 2.64%', ' 0',\n",
       "        ' 0', ' 2', ' 2297.23'],\n",
       "       ['1669713489', ' 0', ' 0', ' 268', ' 268', ' 1', ' 2.64%', ' 0',\n",
       "        ' 0', ' 2', ' 2309.68'],\n",
       "       ['1669713544', ' 0', ' 0', ' 271', ' 271', ' 1', ' 2.65%', ' 0',\n",
       "        ' 0', ' 2', ' 2263.23'],\n",
       "       ['1669713549', ' 0', ' 0', ' 296', ' 296', ' 1', ' 3.03%', ' 0',\n",
       "        ' 0', ' 2', ' 2297.39'],\n",
       "       ['1669713554', ' 0', ' 0', ' 298', ' 298', ' 1', ' 3.03%', ' 0',\n",
       "        ' 0', ' 2', ' 2316.39'],\n",
       "       ['1669713559', ' 0', ' 0', ' 299', ' 299', ' 1', ' 3.03%', ' 0',\n",
       "        ' 0', ' 2', ' 2408.34'],\n",
       "       ['1669713564', ' 0', ' 0', ' 301', ' 301', ' 1', ' 3.04%', ' 0',\n",
       "        ' 0', ' 2', ' 2258.60'],\n",
       "       ['1669713570', ' 0', ' 0', ' 305', ' 305', ' 1', ' 3.10%', ' 0',\n",
       "        ' 0', ' 2', ' 2233.04'],\n",
       "       ['1669713590', ' 0', ' 0', ' 306', ' 306', ' 1', ' 3.10%', ' 0',\n",
       "        ' 0', ' 2', ' 2214.37'],\n",
       "       ['1669713600', ' 0', ' 0', ' 307', ' 307', ' 1', ' 3.10%', ' 0',\n",
       "        ' 0', ' 2', ' 2222.11'],\n",
       "       ['1669713605', ' 0', ' 0', ' 314', ' 314', ' 1', ' 3.11%', ' 0',\n",
       "        ' 0', ' 2', ' 2309.62'],\n",
       "       ['1669713676', ' 0', ' 0', ' 315', ' 315', ' 1', ' 3.11%', ' 0',\n",
       "        ' 0', ' 2', ' 2270.43'],\n",
       "       ['1669713711', ' 0', ' 0', ' 321', ' 321', ' 1', ' 3.12%', ' 0',\n",
       "        ' 0', ' 2', ' 2275.05'],\n",
       "       ['1669713716', ' 0', ' 0', ' 326', ' 326', ' 1', ' 3.13%', ' 0',\n",
       "        ' 0', ' 2', ' 2315.87'],\n",
       "       ['1669713721', ' 0', ' 0', ' 328', ' 328', ' 1', ' 3.14%', ' 0',\n",
       "        ' 0', ' 2', ' 2275.62'],\n",
       "       ['1669713726', ' 0', ' 0', ' 336', ' 336', ' 1', ' 3.18%', ' 0',\n",
       "        ' 0', ' 2', ' 2256.08'],\n",
       "       ['1669713731', ' 0', ' 0', ' 337', ' 337', ' 1', ' 3.19%', ' 0',\n",
       "        ' 0', ' 2', ' 2372.47'],\n",
       "       ['1669713752', ' 0', ' 0', ' 341', ' 341', ' 1', ' 3.20%', ' 0',\n",
       "        ' 0', ' 2', ' 2297.98'],\n",
       "       ['1669713757', ' 0', ' 0', ' 342', ' 342', ' 1', ' 3.20%', ' 0',\n",
       "        ' 0', ' 2', ' 2388.09'],\n",
       "       ['1669713762', ' 0', ' 0', ' 348', ' 348', ' 1', ' 3.21%', ' 0',\n",
       "        ' 0', ' 2', ' 2236.39'],\n",
       "       ['1669713787', ' 0', ' 0', ' 374', ' 374', ' 1', ' 3.22%', ' 0',\n",
       "        ' 0', ' 2', ' 2127.29'],\n",
       "       ['1669713792', ' 0', ' 0', ' 379', ' 379', ' 1', ' 3.22%', ' 0',\n",
       "        ' 0', ' 2', ' 2042.31'],\n",
       "       ['1669713797', ' 0', ' 0', ' 385', ' 385', ' 1', ' 3.22%', ' 0',\n",
       "        ' 0', ' 2', ' 2059.18'],\n",
       "       ['1669713802', ' 0', ' 2', ' 393', ' 392', ' 139', ' 3.26%', ' 0',\n",
       "        ' 0', ' 3', ' 2422.90'],\n",
       "       ['1669713808', ' 0', ' 2', ' 398', ' 397', ' 139', ' 3.27%', ' 0',\n",
       "        ' 0', ' 3', ' 2530.62'],\n",
       "       ['1669713813', ' 0', ' 2', ' 400', ' 399', ' 139', ' 3.29%', ' 0',\n",
       "        ' 0', ' 3', ' 2600.55'],\n",
       "       ['1669713818', ' 0', ' 4', ' 400', ' 398', ' 146', ' 3.29%', ' 0',\n",
       "        ' 0', ' 3', ' 2609.97'],\n",
       "       ['1669713823', ' 0', ' 8', ' 401', ' 397', ' 145', ' 3.30%', ' 0',\n",
       "        ' 0', ' 3', ' 2605.74'],\n",
       "       ['1669714284', ' 0', ' 8', ' 405', ' 401', ' 145', ' 3.30%', ' 0',\n",
       "        ' 0', ' 3', ' 2335.51'],\n",
       "       ['1669714289', ' 0', ' 8', ' 406', ' 402', ' 145', ' 3.30%', ' 0',\n",
       "        ' 0', ' 3', ' 2291.07'],\n",
       "       ['1669715515', ' 0', ' 10', ' 406', ' 401', ' 143', ' 3.30%',\n",
       "        ' 0', ' 0', ' 3', ' 2104.70']], dtype='<U10')"
      ]
     },
     "execution_count": 141,
     "metadata": {},
     "output_type": "execute_result"
    }
   ],
   "source": [
    "path = \"plot/plot_data_size.csv\"\n",
    "with open(path,encoding = 'utf-8') as f:\n",
    "    data = np.loadtxt(f,str,delimiter = \",\")\n",
    "data"
   ]
  },
  {
   "cell_type": "code",
   "execution_count": 142,
   "id": "b48f8513",
   "metadata": {
    "scrolled": false
   },
   "outputs": [
    {
     "data": {
      "text/plain": [
       "[<matplotlib.lines.Line2D at 0x14995d0d0>]"
      ]
     },
     "execution_count": 142,
     "metadata": {},
     "output_type": "execute_result"
    },
    {
     "data": {
      "image/png": "[encoded data removed]",
      "text/plain": [
       "<Figure size 432x288 with 1 Axes>"
      ]
     },
     "metadata": {
      "needs_background": "light"
     },
     "output_type": "display_data"
    }
   ],
   "source": [
    "xpoints = np.array([])\n",
    "ypoints = np.array([])\n",
    "for da in data:\n",
    "    xpoints = np.append(xpoints,[(int(da[0])-1669866243)/60])\n",
    "    ypoints = np.append(ypoints,[int(da[3])])\n",
    "pyplot.xlabel('Time(min)')\n",
    "pyplot.ylabel('PathTotal')\n",
    "my_y_ticks = np.arange(0, 600, 50)\n",
    "pyplot.yticks(my_y_ticks)\n",
    "pyplot.plot(xpoints, ypoints, 'b-')"
   ]
  },
  {
   "cell_type": "code",
   "execution_count": null,
   "id": "0f087179",
   "metadata": {},
   "outputs": [],
   "source": []
  },
  {
   "cell_type": "code",
   "execution_count": null,
   "id": "e7dc894c",
   "metadata": {},
   "outputs": [],
   "source": []
  }
 ],
 "metadata": {
  "kernelspec": {
   "display_name": "Python 3 (ipykernel)",
   "language": "python",
   "name": "python3"
  },
  "language_info": {
   "codemirror_mode": {
    "name": "ipython",
    "version": 3
   },
   "file_extension": ".py",
   "mimetype": "text/x-python",
   "name": "python",
   "nbconvert_exporter": "python",
   "pygments_lexer": "ipython3",
   "version": "3.9.12"
  }
 },
 "nbformat": 4,
 "nbformat_minor": 5
}
