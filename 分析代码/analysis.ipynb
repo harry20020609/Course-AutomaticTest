{
 "cells": [
  {
   "cell_type": "code",
   "execution_count": 3,
   "id": "58e43425",
   "metadata": {},
   "outputs": [],
   "source": [
    "import json\n",
    "import os\n",
    "import matplotlib.pyplot as pyplot\n",
    "import random\n",
    "import numpy as np"
   ]
  },
  {
   "cell_type": "code",
   "execution_count": 15,
   "id": "f73f546d",
   "metadata": {},
   "outputs": [],
   "source": [
    "result = []\n",
    "src = 'report'\n",
    "dirs = os.listdir(src)\n",
    "for name in dirs:\n",
    "    if(name.endswith(\"json\")):\n",
    "        with open(src+'/'+name,'r',encoding='utf8')as fp:\n",
    "            json_data = json.load(fp)\n",
    "            if(json_data['mutationScore']<98):\n",
    "                result.append(2)"
   ]
  },
  {
   "cell_type": "code",
   "execution_count": 17,
   "id": "55893e93",
   "metadata": {
    "scrolled": true
   },
   "outputs": [
    {
     "data": {
      "text/plain": [
       "[<matplotlib.lines.Line2D at 0x109781790>]"
      ]
     },
     "execution_count": 17,
     "metadata": {},
     "output_type": "execute_result"
    },
    {
     "data": {
      "image/png": "[encoded data removed]",
      "text/plain": [
       "<Figure size 432x288 with 1 Axes>"
      ]
     },
     "metadata": {
      "needs_background": "light"
     },
     "output_type": "display_data"
    }
   ],
   "source": [
    "x = range(0,len(result))\n",
    "pyplot.ylim(1, 3)\n",
    "pyplot.plot(x, result, 'b-')"
   ]
  },
  {
   "cell_type": "code",
   "execution_count": null,
   "id": "c46da89d",
   "metadata": {},
   "outputs": [],
   "source": []
  }
 ],
 "metadata": {
  "kernelspec": {
   "display_name": "Python 3 (ipykernel)",
   "language": "python",
   "name": "python3"
  },
  "language_info": {
   "codemirror_mode": {
    "name": "ipython",
    "version": 3
   },
   "file_extension": ".py",
   "mimetype": "text/x-python",
   "name": "python",
   "nbconvert_exporter": "python",
   "pygments_lexer": "ipython3",
   "version": "3.9.12"
  }
 },
 "nbformat": 4,
 "nbformat_minor": 5
}
